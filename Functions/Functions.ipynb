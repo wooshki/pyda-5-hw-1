{
 "cells": [
  {
   "cell_type": "code",
   "execution_count": 89,
   "metadata": {},
   "outputs": [
    {
     "data": {
      "text/plain": [
       "'Аристарх Павлов'"
      ]
     },
     "execution_count": 89,
     "metadata": {},
     "output_type": "execute_result"
    }
   ],
   "source": [
    "documents = [\n",
    "{'type': 'passport', 'number': '2207 876234', 'name': 'Василий Гупкин'},\n",
    "{'type': 'invoice', 'number': '11-2', 'name': 'Геннадий Покемонов'},\n",
    "{'type': 'insurance', 'number': '10006', 'name': 'Аристарх Павлов'}\n",
    "] \n",
    "(documents[2]['name'])"
   ]
  },
  {
   "cell_type": "code",
   "execution_count": 90,
   "metadata": {},
   "outputs": [
    {
     "data": {
      "text/plain": [
       "str"
      ]
     },
     "execution_count": 90,
     "metadata": {},
     "output_type": "execute_result"
    }
   ],
   "source": [
    "directories = {\n",
    "'1': ['2207 876234', '11-2'],\n",
    "'2': ['10006'],\n",
    "'3': []\n",
    "}\n",
    "\n",
    "type('10006')"
   ]
  },
  {
   "cell_type": "code",
   "execution_count": 91,
   "metadata": {},
   "outputs": [],
   "source": [
    "def command(user_input):\n",
    "    \n",
    "    if user_input == 'p': #случай, когда пользователь хочет найти имя по номеру документа\n",
    "        p_input = input(\"Введите номер документа: \") #просим ввести номер документа\n",
    "        owner(p_input)\n",
    "                   \n",
    "    elif user_input == 's': #случай, когда пользователь хочет узнать, на какой полке находится документ \n",
    "        s_input = input(\"Введите номер документа: \") #просим ввести номер документа\n",
    "        s_answer = shelf(s_input) #возвращаем номер введённого пользователем документа \n",
    "        if s_answer is not None: #проверяем, есть ли документ в базе \n",
    "            print(f'Документ находится на полке: {s_answer}') \n",
    "        else:\n",
    "            print('Такого номера нет в справочнике') \n",
    "                \n",
    "    elif user_input == 'l': #случай, когда пользователь хочет получить всю информацию по документам\n",
    "        info()\n",
    "        \n",
    "    elif user_input == 'as': #случай, когда пользователь хочет добавить полку\n",
    "        as_input = int(input('Введите номер полки: ')) #просим ввести номер полки\n",
    "        new_shelf(as_input) \n",
    "        \n",
    "    elif user_input == 'ds': #случай, когда пользователь хочет удалить полку \n",
    "        ds_input = int(input('Введите номер полки: ')) #просим ввести номер полки\n",
    "        delete_shelf(ds_input)\n",
    "        \n",
    "    elif user_input == 'q': #случай, когда пользователь хочет выйти из программы \n",
    "        print('Программа завершена') #выводим сообщение о завершении программы \n",
    "        \n",
    "    else: #случай, когда пользователь ввёл команду, которая не существует \n",
    "        print(\"Такой команды не существует. Попробуйте другую\") #просим скорректировать команду \n",
    "        "
   ]
  },
  {
   "cell_type": "code",
   "execution_count": 92,
   "metadata": {},
   "outputs": [],
   "source": [
    "def owner(p_input):\n",
    "    doc_list = [] #создаём список, чтобы проверить, есть искомый документ в словарях или нет\n",
    "    for d in documents: #открываем цикл для итеративного поиска номера документа в словарях\n",
    "        if p_input in d['number']:   #случай, когда номер есть в словарях по ключу \"номер\"  \n",
    "            doc_list.append('a') #помещаем условный элемент \"а\" в список\n",
    "        else:     #случай, когда номера нет в словарях \n",
    "            doc_list.append('b') #помещаем условный элемент \"б\" в список       \n",
    "    if 'a' in doc_list: #случай, когда условный элемент \"а\" есть в списке = номер есть в словарях\n",
    "        name_index = doc_list.index('a', 0) #определяем индекс элемента, чтобы понять, из какого словаря выводить имя\n",
    "        name_doc = (documents[name_index]['name']) #условное имя для вывода\n",
    "        print(f'Владелец документа: {name_doc}') #выводим имя по номеру документа \n",
    "    else:\n",
    "        print('Такого номера нет в справочнике') #случай, когда условного элемента \"а\" нет в списке = номера нет в словарях"
   ]
  },
  {
   "cell_type": "code",
   "execution_count": 93,
   "metadata": {},
   "outputs": [],
   "source": [
    "def shelf(s_input):\n",
    "    dir_list = [] #создаём список, чтобы проверить, есть искомый документ в списках словаря или нет\n",
    "    for d in directories.values(): #открываем цикл для итеративного поиска номера документа в списках словаря\n",
    "        if s_input in d:  #случай, когда номер есть в списке \n",
    "             dir_list.append('a') #помещаем условный элемент \"а\" в список\n",
    "        else:  #случай, когда номера нет в словарях  \n",
    "             dir_list.append('b') #помещаем условный элемент \"б\" в список\n",
    "    if 'a' in dir_list: #случай, когда условный элемент \"а\" есть в списке = номер есть в словарях\n",
    "        shelf_index = dir_list.index('a', 0) #определяем индекс элемента, чтобы понять, из какого списка выводить номер полки\n",
    "        shelf_list = list(directories.keys()) #превращаем ключи словаря в список\n",
    "        shelf_number = shelf_list[shelf_index] #находим номер полки по индексу\n",
    "        return shelf_number\n",
    "        #print(f'Документ находится на полке: {shelf}') #выводим полку по номеру документа \n",
    "    else:\n",
    "        return None\n",
    "        #print('Такого номера нет в справочнике') #случай, когда условного элемента \"а\" нет в списке = номера нет в словарях\n"
   ]
  },
  {
   "cell_type": "code",
   "execution_count": 94,
   "metadata": {
    "scrolled": true
   },
   "outputs": [],
   "source": [
    "def info():\n",
    "    for d in documents: #запускаем цикл итерации по документам\n",
    "        d_shelf = shelf(d['number']) #возвращаем номер полки\n",
    "        d_number = d['number'] #выводим номер документа\n",
    "        d_type = d['type'] #выводим тип документа\n",
    "        d_name = d['name'] #выводим владельца документа \n",
    "        print(f'№: {d_number}, тип: {d_type}, владелец: {d_name}, полка хранения: {d_shelf}')  \n"
   ]
  },
  {
   "cell_type": "code",
   "execution_count": 95,
   "metadata": {},
   "outputs": [],
   "source": [
    "#as_input = 4\n",
    "\n",
    "def new_shelf(as_input):\n",
    "    keys_list = [] #создаём пустой список, куда будет добавлять номера полок \n",
    "    for key in directories.keys(): #запускаем цикл итерации по элементам словаря \n",
    "        key_int = int(key) #переводим ключ словаря в формат числа \n",
    "        keys_list.append(key_int) #добавляем ключи словаря в пустой список \n",
    "    if as_input in keys_list: #проверяем, есть ли введённое пользователем число в списке ключей словаря \n",
    "        print(f'Такая полка уже существует. Текущий перечень полок: {keys_list}')\n",
    "    else:\n",
    "        directories[f'{as_input}'] = [] #добавляем полку в словарь \n",
    "        keys_list.append(as_input) #добавляем номер полки в список \n",
    "        print(f'Полка добавлена. Текущий перечень полок: {keys_list}')\n",
    "        return directories #изменяем словарь \n",
    "\n",
    "#new_shelf(as_input)"
   ]
  },
  {
   "cell_type": "code",
   "execution_count": 96,
   "metadata": {},
   "outputs": [],
   "source": [
    "#ds_input = 4\n",
    "\n",
    "def delete_shelf(ds_input):\n",
    "    keys_list = [] #создаём пустой список, куда будет добавлять номера полок \n",
    "    for key in directories.keys(): #запускаем цикл итерации по элементам словаря \n",
    "        key_int = int(key) #переводим ключ словаря в формат числа \n",
    "        keys_list.append(key_int) #добавляем ключи словаря в пустой список\n",
    "    if ds_input not in keys_list: #проверяем, есть ли номер полки в словаре\n",
    "        print(f'Такой полки не существует. Текущий перечень полок: {keys_list}')\n",
    "    else:\n",
    "        if ds_input > 2:\n",
    "            del(directories[f'{ds_input}']) #удаляем полку из словаря\n",
    "            print(f'Полка удалена. Текущий перечень полок: {keys_list[:-1]}')\n",
    "            return directories #изменяем словарь \n",
    "        else:\n",
    "            print(f'На полке есть документы, удалите их перед удалением полки. Текущий перечень полок: {keys_list}')\n",
    "            \n",
    "#delete_shelf(ds_input)"
   ]
  },
  {
   "cell_type": "code",
   "execution_count": 97,
   "metadata": {},
   "outputs": [
    {
     "name": "stdout",
     "output_type": "stream",
     "text": [
      "Введите команду: g\n",
      "Такой команды не существует. Попробуйте другую.\n",
      "Введите команду: q\n",
      "Программа завершена\n"
     ]
    }
   ],
   "source": [
    "def main():\n",
    "    while True:\n",
    "        user_input = input(\"Введите команду: \") #пользовательский ввод\n",
    "        command(user_input) #запускаем функцию, которая предлагает пользователю ввести команду \n",
    "        if user_input == 'q': #случай, когда пользователь ввёл команду для выхода\n",
    "            break\n",
    "\n",
    "main() "
   ]
  },
  {
   "cell_type": "code",
   "execution_count": 46,
   "metadata": {},
   "outputs": [],
   "source": [
    " "
   ]
  },
  {
   "cell_type": "code",
   "execution_count": null,
   "metadata": {},
   "outputs": [],
   "source": []
  }
 ],
 "metadata": {
  "kernelspec": {
   "display_name": "Python 3",
   "language": "python",
   "name": "python3"
  },
  "language_info": {
   "codemirror_mode": {
    "name": "ipython",
    "version": 3
   },
   "file_extension": ".py",
   "mimetype": "text/x-python",
   "name": "python",
   "nbconvert_exporter": "python",
   "pygments_lexer": "ipython3",
   "version": "3.7.1"
  }
 },
 "nbformat": 4,
 "nbformat_minor": 2
}
