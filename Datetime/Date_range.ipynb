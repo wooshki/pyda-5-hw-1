{
 "cells": [
  {
   "cell_type": "code",
   "execution_count": 3,
   "metadata": {},
   "outputs": [
    {
     "name": "stdout",
     "output_type": "stream",
     "text": [
      "1\n",
      "1\n"
     ]
    }
   ],
   "source": [
    "\n",
    "\n"
   ]
  },
  {
   "cell_type": "code",
   "execution_count": 27,
   "metadata": {},
   "outputs": [
    {
     "name": "stdout",
     "output_type": "stream",
     "text": [
      "2017-07-09\n",
      "2017-06-01\n"
     ]
    },
    {
     "data": {
      "text/plain": [
       "[]"
      ]
     },
     "execution_count": 27,
     "metadata": {},
     "output_type": "execute_result"
    }
   ],
   "source": [
    "import traceback\n",
    "from datetime import datetime\n",
    "from datetime import timedelta\n",
    "\n",
    "def date_range():  \n",
    "    date_list = []\n",
    "    start_date_input = str(input())\n",
    "    end_date_input = str(input())\n",
    "    \n",
    "    try:\n",
    "        start_date = datetime.strptime(start_date_input, '%Y-%m-%d')\n",
    "        end_date = datetime.strptime(end_date_input, '%Y-%m-%d') \n",
    "        if start_date < end_date:\n",
    "            while start_date <= end_date:\n",
    "                start_date += timedelta(days = 1)\n",
    "                date_list.append(start_date.strftime('%Y-%m-%d'))\n",
    "            return date_list\n",
    "        else:\n",
    "            return date_list\n",
    "        \n",
    "    except ValueError:\n",
    "        return date_list\n",
    "        \n",
    "date_range()"
   ]
  },
  {
   "cell_type": "code",
   "execution_count": null,
   "metadata": {},
   "outputs": [],
   "source": []
  },
  {
   "cell_type": "code",
   "execution_count": null,
   "metadata": {},
   "outputs": [],
   "source": []
  }
 ],
 "metadata": {
  "kernelspec": {
   "display_name": "Python 3",
   "language": "python",
   "name": "python3"
  },
  "language_info": {
   "codemirror_mode": {
    "name": "ipython",
    "version": 3
   },
   "file_extension": ".py",
   "mimetype": "text/x-python",
   "name": "python",
   "nbconvert_exporter": "python",
   "pygments_lexer": "ipython3",
   "version": "3.7.1"
  }
 },
 "nbformat": 4,
 "nbformat_minor": 2
}
