{
 "cells": [
  {
   "cell_type": "code",
   "execution_count": 12,
   "metadata": {},
   "outputs": [
    {
     "name": "stdout",
     "output_type": "stream",
     "text": [
      "['2018', '04', '02']\n",
      "['2018', '02', '29']\n",
      "['2018', '19', '02']\n"
     ]
    }
   ],
   "source": [
    "from datetime import datetime\n",
    "\n",
    "stream = ['2018-04-02', '2018-02-29', '2018-19-02']\n",
    "    \n",
    "#print(stream[0].split('-'))"
   ]
  },
  {
   "cell_type": "code",
   "execution_count": 47,
   "metadata": {},
   "outputs": [
    {
     "data": {
      "text/plain": [
       "['True', 'True', 'True']"
      ]
     },
     "execution_count": 47,
     "metadata": {},
     "output_type": "execute_result"
    }
   ],
   "source": [
    "def date_validation(stream):\n",
    "    val = []\n",
    "    for dates in stream:\n",
    "        split_dates = dates.split('-')\n",
    "        year = int(split_dates[0])\n",
    "        month = int(split_dates[1])\n",
    "        day = int(split_dates[2]) \n",
    "        if month <= 12:\n",
    "            answer = ('True')\n",
    "            val.append(answer) \n",
    "        elif day >= 30:\n",
    "            if month % 2 != 0 and day == 31:\n",
    "                answer = ('True')\n",
    "                val.append(answer) \n",
    "            else:\n",
    "                answer = ('False')\n",
    "        elif year % 4 == 0 and month == 2 and day == 29:\n",
    "                answer = ('True')\n",
    "                val.append(answer)\n",
    "        else:\n",
    "            answer = ('False')\n",
    "            val.append(answer) \n",
    "     \n",
    "    return(val)\n",
    "        \n",
    "date_validation(stream)\n",
    "        "
   ]
  },
  {
   "cell_type": "code",
   "execution_count": null,
   "metadata": {},
   "outputs": [],
   "source": []
  }
 ],
 "metadata": {
  "kernelspec": {
   "display_name": "Python 3",
   "language": "python",
   "name": "python3"
  },
  "language_info": {
   "codemirror_mode": {
    "name": "ipython",
    "version": 3
   },
   "file_extension": ".py",
   "mimetype": "text/x-python",
   "name": "python",
   "nbconvert_exporter": "python",
   "pygments_lexer": "ipython3",
   "version": "3.7.1"
  }
 },
 "nbformat": 4,
 "nbformat_minor": 2
}
