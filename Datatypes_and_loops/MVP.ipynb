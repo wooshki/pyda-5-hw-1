{
 "cells": [
  {
   "cell_type": "code",
   "execution_count": 36,
   "metadata": {},
   "outputs": [],
   "source": [
    "boys = []\n",
    "girls = []"
   ]
  },
  {
   "cell_type": "code",
   "execution_count": 37,
   "metadata": {},
   "outputs": [
    {
     "name": "stdout",
     "output_type": "stream",
     "text": [
      "ivan\n",
      "oleg\n",
      "igor\n",
      "\n",
      "['ivan', 'oleg', 'igor']\n"
     ]
    }
   ],
   "source": [
    "while True:\n",
    "    boy = str(input())\n",
    "    boys.append(boy)\n",
    "    if boy != '':\n",
    "        pass\n",
    "    else:\n",
    "        break\n",
    "del(boys[-1])\n",
    "print(boys)"
   ]
  },
  {
   "cell_type": "code",
   "execution_count": 38,
   "metadata": {},
   "outputs": [
    {
     "name": "stdout",
     "output_type": "stream",
     "text": [
      "dasha\n",
      "sveta\n",
      "ira\n",
      "\n",
      "['dasha', 'sveta', 'ira']\n"
     ]
    }
   ],
   "source": [
    "while True:\n",
    "    girl = str(input())\n",
    "    girls.append(girl)\n",
    "    if girl != '':\n",
    "        pass\n",
    "    else:\n",
    "        break\n",
    "del[girls[-1]]\n",
    "print(girls)"
   ]
  },
  {
   "cell_type": "code",
   "execution_count": 39,
   "metadata": {},
   "outputs": [
    {
     "data": {
      "text/plain": [
       "3"
      ]
     },
     "execution_count": 39,
     "metadata": {},
     "output_type": "execute_result"
    }
   ],
   "source": [
    "lenght_boys = len(boys)\n",
    "lenght_boys"
   ]
  },
  {
   "cell_type": "code",
   "execution_count": 40,
   "metadata": {},
   "outputs": [
    {
     "data": {
      "text/plain": [
       "3"
      ]
     },
     "execution_count": 40,
     "metadata": {},
     "output_type": "execute_result"
    }
   ],
   "source": [
    "lenght_girls = len(girls)\n",
    "lenght_girls"
   ]
  },
  {
   "cell_type": "code",
   "execution_count": 48,
   "metadata": {},
   "outputs": [
    {
     "data": {
      "text/plain": [
       "['igor', 'ivan', 'oleg']"
      ]
     },
     "execution_count": 48,
     "metadata": {},
     "output_type": "execute_result"
    }
   ],
   "source": [
    "boys_sorted = sorted(boys)\n",
    "boys_sorted"
   ]
  },
  {
   "cell_type": "code",
   "execution_count": 49,
   "metadata": {},
   "outputs": [
    {
     "data": {
      "text/plain": [
       "['dasha', 'ira', 'sveta']"
      ]
     },
     "execution_count": 49,
     "metadata": {},
     "output_type": "execute_result"
    }
   ],
   "source": [
    "girls_sorted = sorted(girls)\n",
    "girls_sorted"
   ]
  },
  {
   "cell_type": "code",
   "execution_count": 50,
   "metadata": {},
   "outputs": [
    {
     "name": "stdout",
     "output_type": "stream",
     "text": [
      "Идеальные пары: \n",
      "igor и dasha\n",
      "ivan и ira\n",
      "oleg и sveta\n"
     ]
    }
   ],
   "source": [
    "if lenght_boys == lenght_girls:\n",
    "    print('Идеальные пары: ')\n",
    "    for pairs in list((zip(boys_sorted, girls_sorted))):\n",
    "        print(f'{pairs[0]} и {pairs[1]}')\n",
    "else:\n",
    "    print('Внимание, кто-то может остаться без пары!') "
   ]
  },
  {
   "cell_type": "code",
   "execution_count": 44,
   "metadata": {},
   "outputs": [
    {
     "data": {
      "text/plain": [
       "tuple"
      ]
     },
     "execution_count": 44,
     "metadata": {},
     "output_type": "execute_result"
    }
   ],
   "source": [
    "type(pairs)"
   ]
  },
  {
   "cell_type": "code",
   "execution_count": 45,
   "metadata": {},
   "outputs": [
    {
     "name": "stdout",
     "output_type": "stream",
     "text": [
      "[('ivan', 'dasha'), ('oleg', 'sveta'), ('igor', 'ira')]\n"
     ]
    }
   ],
   "source": [
    "pairs = list((zip(boys, girls)))\n",
    "print(pairs)"
   ]
  },
  {
   "cell_type": "code",
   "execution_count": null,
   "metadata": {},
   "outputs": [],
   "source": []
  },
  {
   "cell_type": "code",
   "execution_count": null,
   "metadata": {},
   "outputs": [],
   "source": []
  }
 ],
 "metadata": {
  "kernelspec": {
   "display_name": "Python 3",
   "language": "python",
   "name": "python3"
  },
  "language_info": {
   "codemirror_mode": {
    "name": "ipython",
    "version": 3
   },
   "file_extension": ".py",
   "mimetype": "text/x-python",
   "name": "python",
   "nbconvert_exporter": "python",
   "pygments_lexer": "ipython3",
   "version": "3.7.1"
  }
 },
 "nbformat": 4,
 "nbformat_minor": 2
}
