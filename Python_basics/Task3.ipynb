{
 "cells": [
  {
   "cell_type": "code",
   "execution_count": 19,
   "metadata": {},
   "outputs": [
    {
     "name": "stdout",
     "output_type": "stream",
     "text": [
      "Введите день: 28\n",
      "Введите месяц: июня\n",
      "Знак зодиака: Телец\n"
     ]
    }
   ],
   "source": [
    "day = int(input('Введите день: '))\n",
    "month = str(input('Введите месяц: '))\n",
    "if month == 'март':\n",
    "    if day <= 21:\n",
    "        znak = 'Рыбы'\n",
    "    else:\n",
    "        znak = 'Овен'\n",
    "elif month == 'апрель':\n",
    "    if day <= 21:\n",
    "        znak = 'Овен'\n",
    "    else:\n",
    "        znak = 'Телец'\n",
    "elif month == 'май':\n",
    "    if day <= 21:\n",
    "        znak = 'Телец'          \n",
    "    else:\n",
    "        znak = 'Близнецы'          \n",
    "elif month == 'июнь':\n",
    "    if day <= 21:\n",
    "        znak = 'Близнецы'                    \n",
    "    else:\n",
    "        znak = 'Рак'                    \n",
    "elif month == 'июль':\n",
    "    if day <= 21:\n",
    "        znak = 'Рак'\n",
    "    else:\n",
    "        znak = 'Лев'\n",
    "elif month == 'август':\n",
    "    if day <= 21:\n",
    "        znak = 'Лев'\n",
    "    else:\n",
    "        znak = 'Дева'\n",
    "elif month == 'сентябрь':\n",
    "    if day <= 21:\n",
    "        znak = 'Дева'\n",
    "    else:\n",
    "        znak = 'Весы'\n",
    "elif month == 'октябрь':\n",
    "    if day <= 21:\n",
    "        znak = 'Весы'\n",
    "    else:\n",
    "        znak = 'Скорпион'\n",
    "elif month == 'ноябрь':\n",
    "    if day <= 21:\n",
    "        znak = 'Скорпион'\n",
    "    else:\n",
    "        znak = 'Стрелец'\n",
    "elif month == 'декабрь':\n",
    "    if day <= 21:\n",
    "        znak = 'Стрелец'\n",
    "    else:\n",
    "        znak = 'Козерог'\n",
    "elif month == 'январь':\n",
    "    if day <= 21:\n",
    "        znak = 'Козерог'\n",
    "    else:\n",
    "        znak = 'Водолей'\n",
    "elif month == 'июль':\n",
    "    if day <= 21:\n",
    "        znak = 'Водолей'\n",
    "    else:\n",
    "        znak = 'Рыбы'\n",
    "print(f'Знак зодиака: {znak}')\n",
    "                                                "
   ]
  },
  {
   "cell_type": "code",
   "execution_count": null,
   "metadata": {},
   "outputs": [],
   "source": []
  },
  {
   "cell_type": "code",
   "execution_count": null,
   "metadata": {},
   "outputs": [],
   "source": []
  },
  {
   "cell_type": "code",
   "execution_count": null,
   "metadata": {},
   "outputs": [],
   "source": []
  }
 ],
 "metadata": {
  "kernelspec": {
   "display_name": "Python 3",
   "language": "python",
   "name": "python3"
  },
  "language_info": {
   "codemirror_mode": {
    "name": "ipython",
    "version": 3
   },
   "file_extension": ".py",
   "mimetype": "text/x-python",
   "name": "python",
   "nbconvert_exporter": "python",
   "pygments_lexer": "ipython3",
   "version": "3.7.1"
  }
 },
 "nbformat": 4,
 "nbformat_minor": 2
}
